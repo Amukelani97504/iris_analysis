{
 "cells": [
  {
   "cell_type": "markdown",
   "id": "78a2d0c6",
   "metadata": {},
   "source": [
    "# Iris Dataset Analysis\n",
    "\n",
    "This notebook performs data loading, exploration, analysis, and visualization using the Iris dataset."
   ]
  },
  {
   "cell_type": "code",
   "execution_count": null,
   "id": "f8d38a4d",
   "metadata": {},
   "outputs": [],
   "source": [
    "import pandas as pd\n",
    "import matplotlib.pyplot as plt\n",
    "import seaborn as sns\n",
    "from sklearn.datasets import load_iris"
   ]
  },
  {
   "cell_type": "markdown",
   "id": "654d9b81",
   "metadata": {},
   "source": [
    "## Task 1: Load and Explore the Dataset"
   ]
  },
  {
   "cell_type": "code",
   "execution_count": null,
   "id": "67b6f45b",
   "metadata": {},
   "outputs": [],
   "source": [
    "# Load the Iris dataset\n",
    "try:\n",
    "    iris_data = load_iris()\n",
    "    df = pd.DataFrame(data=iris_data.data, columns=iris_data.feature_names)\n",
    "    df['species'] = iris_data.target\n",
    "    df['species'] = df['species'].apply(lambda x: iris_data.target_names[x])\n",
    "    print(\"Dataset loaded successfully.\\n\")\n",
    "except Exception as e:\n",
    "    print(\"Error loading dataset:\", e)"
   ]
  },
  {
   "cell_type": "code",
   "execution_count": null,
   "id": "02114d74",
   "metadata": {},
   "outputs": [],
   "source": [
    "df.head()"
   ]
  },
  {
   "cell_type": "code",
   "execution_count": null,
   "id": "8636ca7c",
   "metadata": {},
   "outputs": [],
   "source": [
    "df.info()"
   ]
  },
  {
   "cell_type": "code",
   "execution_count": null,
   "id": "d4f38fff",
   "metadata": {},
   "outputs": [],
   "source": [
    "df.isnull().sum()"
   ]
  },
  {
   "cell_type": "markdown",
   "id": "386ce1f7",
   "metadata": {},
   "source": [
    "## Task 2: Basic Data Analysis"
   ]
  },
  {
   "cell_type": "code",
   "execution_count": null,
   "id": "5490b23f",
   "metadata": {},
   "outputs": [],
   "source": [
    "df.describe()"
   ]
  },
  {
   "cell_type": "code",
   "execution_count": null,
   "id": "a6c52e2b",
   "metadata": {},
   "outputs": [],
   "source": [
    "df.groupby('species').mean()"
   ]
  },
  {
   "cell_type": "markdown",
   "id": "fcb82232",
   "metadata": {},
   "source": [
    "## Task 3: Data Visualization"
   ]
  },
  {
   "cell_type": "markdown",
   "id": "faa53f1b",
   "metadata": {},
   "source": [
    "### Line Chart - Sepal Length Trend"
   ]
  },
  {
   "cell_type": "code",
   "execution_count": null,
   "id": "9248b05e",
   "metadata": {},
   "outputs": [],
   "source": [
    "sns.set(style=\"whitegrid\")\n",
    "plt.figure(figsize=(8, 5))\n",
    "for species in df['species'].unique():\n",
    "    subset = df[df['species'] == species].reset_index()\n",
    "    plt.plot(subset.index, subset['sepal length (cm)'], label=species)\n",
    "plt.title('Sepal Length Trend (by sample index)')\n",
    "plt.xlabel('Sample Index')\n",
    "plt.ylabel('Sepal Length (cm)')\n",
    "plt.legend()\n",
    "plt.tight_layout()\n",
    "plt.show()"
   ]
  },
  {
   "cell_type": "markdown",
   "id": "7649a3fd",
   "metadata": {},
   "source": [
    "### Bar Chart - Average Petal Length per Species"
   ]
  },
  {
   "cell_type": "code",
   "execution_count": null,
   "id": "2f250217",
   "metadata": {},
   "outputs": [],
   "source": [
    "plt.figure(figsize=(6, 5))\n",
    "df.groupby('species')['petal length (cm)'].mean().plot(kind='bar', color='skyblue')\n",
    "plt.title('Average Petal Length per Species')\n",
    "plt.xlabel('Species')\n",
    "plt.ylabel('Average Petal Length (cm)')\n",
    "plt.tight_layout()\n",
    "plt.show()"
   ]
  },
  {
   "cell_type": "markdown",
   "id": "37d1243d",
   "metadata": {},
   "source": [
    "### Histogram - Distribution of Petal Width"
   ]
  },
  {
   "cell_type": "code",
   "execution_count": null,
   "id": "54704494",
   "metadata": {},
   "outputs": [],
   "source": [
    "plt.figure(figsize=(6, 4))\n",
    "plt.hist(df['petal width (cm)'], bins=15, color='green', edgecolor='black')\n",
    "plt.title('Distribution of Petal Width')\n",
    "plt.xlabel('Petal Width (cm)')\n",
    "plt.ylabel('Frequency')\n",
    "plt.tight_layout()\n",
    "plt.show()"
   ]
  },
  {
   "cell_type": "markdown",
   "id": "951d0ca9",
   "metadata": {},
   "source": [
    "### Scatter Plot - Sepal Length vs. Petal Length"
   ]
  },
  {
   "cell_type": "code",
   "execution_count": null,
   "id": "fd031fd1",
   "metadata": {},
   "outputs": [],
   "source": [
    "plt.figure(figsize=(6, 5))\n",
    "sns.scatterplot(data=df, x='sepal length (cm)', y='petal length (cm)', hue='species')\n",
    "plt.title('Sepal Length vs. Petal Length')\n",
    "plt.xlabel('Sepal Length (cm)')\n",
    "plt.ylabel('Petal Length (cm)')\n",
    "plt.legend()\n",
    "plt.tight_layout()\n",
    "plt.show()"
   ]
  },
  {
   "cell_type": "markdown",
   "id": "f4ed65b6",
   "metadata": {},
   "source": [
    "## Observations\n",
    "- Iris-setosa has the shortest petal and sepal lengths.\n",
    "- Iris-virginica generally has the largest features.\n",
    "- There’s a clear positive correlation between sepal length and petal length."
   ]
  }
 ],
 "metadata": {},
 "nbformat": 4,
 "nbformat_minor": 5
}
